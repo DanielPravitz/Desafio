{
 "cells": [
  {
   "cell_type": "code",
   "execution_count": 33,
   "id": "49ac7a7e",
   "metadata": {
    "scrolled": true
   },
   "outputs": [
    {
     "name": "stdout",
     "output_type": "stream",
     "text": [
      "+---------------+---------+------------+-------------------+\n",
      "|transaction_id |client_id|total_amount|discount_percentage|\n",
      "+---------------+---------+------------+-------------------+\n",
      "|              1|     3545|        3000|               6.99|\n",
      "|              2|     3545|        4500|               0.45|\n",
      "|              3|     3509|       69998|                  0|\n",
      "|              4|     3510|           1|                  0|\n",
      "|              5|     4510|          34|                 40|\n",
      "+---------------+---------+------------+-------------------+\n",
      "\n",
      "+-----------+---------+----------------+----------+---------+\n",
      "|contract_id|client_id|     client_name|percentage|is_active|\n",
      "+-----------+---------+----------------+----------+---------+\n",
      "|          3|     3545|  Magazine Luana|      2.00|     true|\n",
      "|          4|     3545| Magazine Luana |      1.95|    false|\n",
      "|          5|     3509|Lojas Italianas |         1|     true|\n",
      "|          6|     3510|      Carrerfive|      3.00|     true|\n",
      "+-----------+---------+----------------+----------+---------+\n",
      "\n"
     ]
    },
    {
     "data": {
      "text/plain": [
       "import org.apache.spark.sql.SparkSession\n",
       "spark: org.apache.spark.sql.SparkSession = org.apache.spark.sql.SparkSession@400b5225\n",
       "df_transactions: org.apache.spark.sql.DataFrame = [transaction_id : string, client_id: string ... 2 more fields]\n",
       "df_contracts: org.apache.spark.sql.DataFrame = [contract_id: string, client_id: string ... 3 more fields]\n",
       "df_transactions_read: org.apache.spark.sql.DataFrame = [transaction_id : string, client_id: string ... 2 more fields]\n"
      ]
     },
     "execution_count": 33,
     "metadata": {},
     "output_type": "execute_result"
    }
   ],
   "source": [
    "import org.apache.spark.sql.SparkSession\n",
    "\n",
    "val spark = SparkSession.builder()\n",
    "      .master(\"local[1]\")\n",
    "      .appName(\"SparkByExamples.com\")\n",
    "      .getOrCreate();\n",
    "\n",
    "val df_transactions = spark.read.option(\"header\",true).csv(\"transactions.csv\")\n",
    "val df_contracts = spark.read.option(\"header\", true).csv(\"contracts.csv\")\n",
    "\n",
    "val df_transactions_read = df_transactions.na.replace(\"discount_percentage\", Map(\"null\" -> \"0\"))\n",
    "\n",
    "df_transactions_read.show()\n",
    "df_contracts.show()"
   ]
  },
  {
   "cell_type": "code",
   "execution_count": 34,
   "id": "1e380cea",
   "metadata": {
    "scrolled": true
   },
   "outputs": [
    {
     "name": "stdout",
     "output_type": "stream",
     "text": [
      "+---------+------------+\n",
      "|client_id|liquid_value|\n",
      "+---------+------------+\n",
      "|     3545|      2790.3|\n",
      "|     3545|     4479.75|\n",
      "|     3509|     69998.0|\n",
      "|     3510|         1.0|\n",
      "|     4510|        20.4|\n",
      "+---------+------------+\n",
      "\n"
     ]
    },
    {
     "data": {
      "text/plain": [
       "df_liquid_value: org.apache.spark.sql.DataFrame = [client_id: string, liquid_value: double]\n"
      ]
     },
     "execution_count": 34,
     "metadata": {},
     "output_type": "execute_result"
    }
   ],
   "source": [
    "val df_liquid_value = df_transactions_read.selectExpr(\"client_id\", \"total_amount - (total_amount * (discount_percentage / 100)) as liquid_value\")\n",
    "df_liquid_value.show()"
   ]
  },
  {
   "cell_type": "code",
   "execution_count": 49,
   "id": "9a68a0eb",
   "metadata": {},
   "outputs": [
    {
     "name": "stdout",
     "output_type": "stream",
     "text": [
      "+-----------------+\n",
      "|            total|\n",
      "+-----------------+\n",
      "|845.4110000000001|\n",
      "+-----------------+\n",
      "\n"
     ]
    }
   ],
   "source": [
    "df_liquid_value.join(df_contracts, df_liquid_value(\"client_id\") === df_contracts(\"client_id\"), \"inner\").filter(df_contracts(\"is_active\") === \"true\").selectExpr(\"sum(liquid_value * (percentage / 100)) as total\").show()"
   ]
  }
 ],
 "metadata": {
  "kernelspec": {
   "display_name": "spylon-kernel",
   "language": "scala",
   "name": "spylon-kernel"
  },
  "language_info": {
   "codemirror_mode": "text/x-scala",
   "file_extension": ".scala",
   "help_links": [
    {
     "text": "MetaKernel Magics",
     "url": "https://metakernel.readthedocs.io/en/latest/source/README.html"
    }
   ],
   "mimetype": "text/x-scala",
   "name": "scala",
   "pygments_lexer": "scala",
   "version": "0.4.1"
  }
 },
 "nbformat": 4,
 "nbformat_minor": 5
}
