{
 "cells": [
  {
   "cell_type": "code",
   "execution_count": 38,
   "id": "dead3c14",
   "metadata": {
    "scrolled": true
   },
   "outputs": [
    {
     "name": "stdout",
     "output_type": "stream",
     "text": [
      "   contract_id  client_id      client_name  percentage  is_active\n",
      "0            3       3545   Magazine Luana        2.00       True\n",
      "1            4       3545   Magazine Luana        1.95      False\n",
      "2            5       3509  Lojas Italianas        1.00       True\n",
      "3            6       3510       Carrerfive        3.00       True \n",
      "\n",
      "   transaction_id   client_id  total_amount  discount_percentage\n",
      "0                1       3545          3000                 6.99\n",
      "1                2       3545          4500                 0.45\n",
      "2                3       3509         69998                 0.00\n",
      "3                4       3510             1                  NaN\n",
      "4                5       4510            34                40.00\n"
     ]
    }
   ],
   "source": [
    "import pandas as pd\n",
    "\n",
    "df_contracts = pd.read_csv(\"contracts.csv\", header=0)\n",
    "df_transactions = pd.read_csv(\"transactions.csv\", header=0)\n",
    "\n",
    "print(df_contracts.head(10),\"\\n\")\n",
    "print(df_transactions.head(10))\n",
    "\n",
    "df_transactions.fillna(0, inplace=True)"
   ]
  },
  {
   "cell_type": "code",
   "execution_count": null,
   "id": "05da69a6",
   "metadata": {},
   "outputs": [],
   "source": []
  },
  {
   "cell_type": "code",
   "execution_count": 39,
   "id": "9efc0251",
   "metadata": {
    "scrolled": false
   },
   "outputs": [
    {
     "data": {
      "text/html": [
       "<div>\n",
       "<style scoped>\n",
       "    .dataframe tbody tr th:only-of-type {\n",
       "        vertical-align: middle;\n",
       "    }\n",
       "\n",
       "    .dataframe tbody tr th {\n",
       "        vertical-align: top;\n",
       "    }\n",
       "\n",
       "    .dataframe thead th {\n",
       "        text-align: right;\n",
       "    }\n",
       "</style>\n",
       "<table border=\"1\" class=\"dataframe\">\n",
       "  <thead>\n",
       "    <tr style=\"text-align: right;\">\n",
       "      <th></th>\n",
       "      <th>client_id</th>\n",
       "      <th>liquid_value</th>\n",
       "    </tr>\n",
       "  </thead>\n",
       "  <tbody>\n",
       "    <tr>\n",
       "      <th>0</th>\n",
       "      <td>3545</td>\n",
       "      <td>2790.30</td>\n",
       "    </tr>\n",
       "    <tr>\n",
       "      <th>1</th>\n",
       "      <td>3545</td>\n",
       "      <td>4479.75</td>\n",
       "    </tr>\n",
       "    <tr>\n",
       "      <th>2</th>\n",
       "      <td>3509</td>\n",
       "      <td>69998.00</td>\n",
       "    </tr>\n",
       "    <tr>\n",
       "      <th>3</th>\n",
       "      <td>3510</td>\n",
       "      <td>1.00</td>\n",
       "    </tr>\n",
       "    <tr>\n",
       "      <th>4</th>\n",
       "      <td>4510</td>\n",
       "      <td>20.40</td>\n",
       "    </tr>\n",
       "  </tbody>\n",
       "</table>\n",
       "</div>"
      ],
      "text/plain": [
       "   client_id  liquid_value\n",
       "0       3545       2790.30\n",
       "1       3545       4479.75\n",
       "2       3509      69998.00\n",
       "3       3510          1.00\n",
       "4       4510         20.40"
      ]
     },
     "execution_count": 39,
     "metadata": {},
     "output_type": "execute_result"
    }
   ],
   "source": [
    "def calculate_liquid_value(amount, percentage):\n",
    "    return amount - (amount * (percentage / 100)) \n",
    "    \n",
    "df_transactions['liquid_value'] = df_transactions.apply(lambda row : calculate_liquid_value( row['total_amount'], row['discount_percentage']), axis = 1)\n",
    "df_transactions = df_transactions[[\"client_id\", \"liquid_value\"]]\n",
    "df_transactions"
   ]
  },
  {
   "cell_type": "code",
   "execution_count": 51,
   "id": "4754642f",
   "metadata": {},
   "outputs": [
    {
     "data": {
      "text/plain": [
       "845.4110000000001"
      ]
     },
     "execution_count": 51,
     "metadata": {},
     "output_type": "execute_result"
    }
   ],
   "source": [
    "df = pd.merge(df_transactions, df_contracts, on=['client_id','client_id']).query(\"is_active != False \").eval(\"liquid_value * (percentage/100)\")\n",
    "total = sum(df)\n",
    "total"
   ]
  }
 ],
 "metadata": {
  "kernelspec": {
   "display_name": "Python 3 (ipykernel)",
   "language": "python",
   "name": "python3"
  },
  "language_info": {
   "codemirror_mode": {
    "name": "ipython",
    "version": 3
   },
   "file_extension": ".py",
   "mimetype": "text/x-python",
   "name": "python",
   "nbconvert_exporter": "python",
   "pygments_lexer": "ipython3",
   "version": "3.9.7"
  }
 },
 "nbformat": 4,
 "nbformat_minor": 5
}
