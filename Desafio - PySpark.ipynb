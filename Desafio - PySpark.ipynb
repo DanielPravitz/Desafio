{
 "cells": [
  {
   "cell_type": "markdown",
   "id": "30e7386e",
   "metadata": {},
   "source": [
    "### Solução utilizando PySpark"
   ]
  },
  {
   "cell_type": "code",
   "execution_count": 105,
   "id": "67738a4a",
   "metadata": {
    "scrolled": false
   },
   "outputs": [],
   "source": [
    "from pyspark.sql import SparkSession\n",
    "spark = SparkSession.builder.getOrCreate()"
   ]
  },
  {
   "cell_type": "code",
   "execution_count": 111,
   "id": "47accd62",
   "metadata": {
    "scrolled": true
   },
   "outputs": [
    {
     "name": "stdout",
     "output_type": "stream",
     "text": [
      "+-----------+---------+---------------+----------+---------+\n",
      "|contract_id|client_id|    client_name|percentage|is_active|\n",
      "+-----------+---------+---------------+----------+---------+\n",
      "|          3|     3545| Magazine Luana|       2.0|     true|\n",
      "|          4|     3545| Magazine Luana|      1.95|    false|\n",
      "|          5|     3509|Lojas Italianas|       1.0|     true|\n",
      "|          6|     3510|     Carrerfive|       3.0|     true|\n",
      "+-----------+---------+---------------+----------+---------+\n",
      "\n",
      "+---------------+---------+------------+-------------------+\n",
      "|transaction_id |client_id|total_amount|discount_percentage|\n",
      "+---------------+---------+------------+-------------------+\n",
      "|              1|     3545|        3000|               6.99|\n",
      "|              2|     3545|        4500|               0.45|\n",
      "|              3|     3509|       69998|                  0|\n",
      "|              4|     3510|           1|                  0|\n",
      "|              5|     4510|          34|                 40|\n",
      "+---------------+---------+------------+-------------------+\n",
      "\n"
     ]
    }
   ],
   "source": [
    "#Import Datasets\n",
    "df_contracts = spark.read.csv(\"contracts.csv\", header=True, inferSchema=True)\n",
    "df_transactions = spark.read.csv(\"transactions.csv\", header=True, inferSchema=True)\n",
    "\n",
    "df_contracts.show()\n",
    "df_transactions = df_transactions.na.replace(\"null\", \"0\")\n",
    "df_transactions.show()"
   ]
  },
  {
   "cell_type": "code",
   "execution_count": 112,
   "id": "968f8906",
   "metadata": {},
   "outputs": [
    {
     "name": "stdout",
     "output_type": "stream",
     "text": [
      "+---------+------------+\n",
      "|client_id|liquid_value|\n",
      "+---------+------------+\n",
      "|     3545|      2790.3|\n",
      "|     3545|     4479.75|\n",
      "|     3509|     69998.0|\n",
      "|     3510|         1.0|\n",
      "|     4510|        20.4|\n",
      "+---------+------------+\n",
      "\n"
     ]
    }
   ],
   "source": [
    "#Calcula valor liquido da transacao \n",
    "df_liquid_value = df_transactions.selectExpr(\"client_id\", \"total_amount - (total_amount * (discount_percentage / 100)) as liquid_value\")\n",
    "df_liquid_value.show()"
   ]
  },
  {
   "cell_type": "code",
   "execution_count": 113,
   "id": "4a2fd1de",
   "metadata": {
    "scrolled": false
   },
   "outputs": [
    {
     "name": "stdout",
     "output_type": "stream",
     "text": [
      "+-----------------+\n",
      "|            total|\n",
      "+-----------------+\n",
      "|845.4110000000001|\n",
      "+-----------------+\n",
      "\n"
     ]
    }
   ],
   "source": [
    "#Total de ganhos\n",
    "df_liquid_value.join(df_contracts, df_liquid_value[\"client_id\"] == df_contracts[\"client_id\"]).filter(\"is_active = 'true'\").selectExpr(\"sum(liquid_value * (percentage / 100)) as total\").show()"
   ]
  }
 ],
 "metadata": {
  "kernelspec": {
   "display_name": "Python 3 (ipykernel)",
   "language": "python",
   "name": "python3"
  },
  "language_info": {
   "codemirror_mode": {
    "name": "ipython",
    "version": 3
   },
   "file_extension": ".py",
   "mimetype": "text/x-python",
   "name": "python",
   "nbconvert_exporter": "python",
   "pygments_lexer": "ipython3",
   "version": "3.9.7"
  }
 },
 "nbformat": 4,
 "nbformat_minor": 5
}
